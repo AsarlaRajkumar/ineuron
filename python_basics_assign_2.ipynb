{
 "cells": [
  {
   "cell_type": "code",
   "execution_count": null,
   "id": "871c9e49",
   "metadata": {},
   "outputs": [],
   "source": [
    "1.What are the two values of the Boolean data type? How do you write them?\n",
    "\n",
    "True and Flase are two values of Boolean data type, using Uppercase T and F, with the rest of the word in lowercase"
   ]
  },
  {
   "cell_type": "code",
   "execution_count": null,
   "id": "b1968854",
   "metadata": {},
   "outputs": [],
   "source": [
    "2. What are the three different types of Boolean operators?\n",
    "\n",
    "The three Boolean operators are \"AND\",\"OR\" and \"NOT\""
   ]
  },
  {
   "cell_type": "code",
   "execution_count": null,
   "id": "867f5e77",
   "metadata": {},
   "outputs": [],
   "source": [
    "3. Make a list of each Boolean operator&#39;s truth tables (i.e. every possible combination of Boolean\n",
    "values for the operator and what it evaluate ).\n",
    "\n",
    "True and True is True.\n",
    "True and False is False.\n",
    "False and True is False.\n",
    "False and False is False.\n",
    "True or True is True.\n",
    "True or False is True.\n",
    "False or True is True.\n",
    "False or False is False.\n",
    "not True is False.\n",
    "not False is True.\n",
    "\n",
    "Truth table of with Ture value as 1 and Flase as 0\n",
    "Truth Table for AND\n",
    "A B output\n",
    "0 0 0\n",
    "0 1 0\n",
    "1 0 0\n",
    "1 1 1\n",
    "Truth Table for OR\n",
    "A B output\n",
    "0 0 0\n",
    "0 1 1\n",
    "1 0 1\n",
    "1 1 1\n",
    "Truth Table for NOT\n",
    "A output\n",
    "0 1\n",
    "1 0"
   ]
  },
  {
   "cell_type": "code",
   "execution_count": null,
   "id": "b6898573",
   "metadata": {},
   "outputs": [],
   "source": [
    "4. What are the values of the following expressions?\n",
    "\n",
    "(5 &gt; 4) and (3 == 5) =============================================> False\n",
    "not (5 &gt; 4)          =============================================> False\n",
    "(5 &gt; 4) or (3 == 5)  =============================================> True\n",
    "not ((5 &gt; 4) or (3 == 5))=========================================> False\n",
    "(True and True) and (True == False) =================================> False\n",
    "(not False) or (not True) ===========================================> True"
   ]
  },
  {
   "cell_type": "code",
   "execution_count": null,
   "id": "73a5fafe",
   "metadata": {},
   "outputs": [],
   "source": [
    "5. What are the six comparison operators?\n",
    "\n",
    "==, !=, <, >, <=, and >="
   ]
  },
  {
   "cell_type": "code",
   "execution_count": null,
   "id": "5bb0aecf",
   "metadata": {},
   "outputs": [],
   "source": [
    "Q6. How do you tell the difference between the equal to and assignment operators?\n",
    "Describe a condition and when you would use one.\n",
    "\n",
    "== is the equal to operator that compares two values and evaluates to a Boolean, while = is the assignment operator that stores a value in a variable."
   ]
  },
  {
   "cell_type": "code",
   "execution_count": 1,
   "id": "87fc9d77",
   "metadata": {},
   "outputs": [
    {
     "name": "stdout",
     "output_type": "stream",
     "text": [
      "False\n",
      "c = 2\n"
     ]
    }
   ],
   "source": [
    "# Equal To Operator\n",
    "if(1==2):\n",
    "    print(\"True\")\n",
    "else:\n",
    "    print(\"False\")\n",
    "#Assignment operator\n",
    "\n",
    "c=2 #here we have used assignment operator(=) to assign value of c which is 2\n",
    "print(\"c =\",c)"
   ]
  },
  {
   "cell_type": "code",
   "execution_count": null,
   "id": "80861e21",
   "metadata": {},
   "outputs": [],
   "source": [
    "Q7. Identify the three blocks in this code:"
   ]
  },
  {
   "cell_type": "code",
   "execution_count": 2,
   "id": "51b372c5",
   "metadata": {},
   "outputs": [
    {
     "name": "stdout",
     "output_type": "stream",
     "text": [
      "ham\n",
      "spam\n",
      "spam\n"
     ]
    }
   ],
   "source": [
    "spam = 0\n",
    "if spam == 10:\n",
    "    print('eggs') #Block 1\n",
    "if spam > 5:\n",
    "    print('bacon') #Block 2\n",
    "else:\n",
    "    print('ham') #Block 3\n",
    "    print('spam')\n",
    "    print('spam')"
   ]
  },
  {
   "cell_type": "code",
   "execution_count": null,
   "id": "2c3caa05",
   "metadata": {},
   "outputs": [],
   "source": [
    "Q8. Write code that prints Hello if 1 is stored in spam, prints Howdy if 2 is stored in spam, \n",
    "and prints Greetings! if anything else is stored in spam."
   ]
  },
  {
   "cell_type": "code",
   "execution_count": 3,
   "id": "a133f27c",
   "metadata": {},
   "outputs": [
    {
     "name": "stdout",
     "output_type": "stream",
     "text": [
      "Input a no.2\n",
      "Howdy\n"
     ]
    }
   ],
   "source": [
    "spam = int(input(\"Input a no.\"))\n",
    "if spam == 1:\n",
    "    print(\"Hello\")\n",
    "elif spam == 2:\n",
    "    print(\"Howdy\")\n",
    "else:\n",
    "    print(\"Greetings!\")"
   ]
  },
  {
   "cell_type": "code",
   "execution_count": null,
   "id": "89a1f1a8",
   "metadata": {},
   "outputs": [],
   "source": [
    "Q9.If your programme is stuck in an endless loop, what keys you’ll press?\n",
    "\n",
    "If program is stuck in endless loop we will press ctrl+c."
   ]
  },
  {
   "cell_type": "code",
   "execution_count": null,
   "id": "8977694e",
   "metadata": {},
   "outputs": [],
   "source": [
    "Q10. How can you tell the difference between break and continue?"
   ]
  },
  {
   "cell_type": "code",
   "execution_count": 4,
   "id": "f93b57ce",
   "metadata": {},
   "outputs": [
    {
     "name": "stdout",
     "output_type": "stream",
     "text": [
      "0\n",
      "1\n",
      "2\n",
      "3\n",
      "4\n",
      "Break execution\n",
      "0\n",
      "1\n",
      "2\n",
      "3\n",
      "4\n",
      "6\n",
      "7\n",
      "8\n",
      "9\n"
     ]
    }
   ],
   "source": [
    "#usage of break\n",
    "for i in range(10):\n",
    "    if(i==5):\n",
    "        break\n",
    "    print(i)\n",
    "\n",
    "print('Break execution')\n",
    "\n",
    "#usage of  continue\n",
    "for i in range(10):\n",
    "    if(i==5):\n",
    "        continue\n",
    "    print(i)\n",
    "    "
   ]
  },
  {
   "cell_type": "code",
   "execution_count": null,
   "id": "fe0529e3",
   "metadata": {},
   "outputs": [],
   "source": [
    "\"Break execution\" is executed outside the loop and continue statement move the execution to the start of the loop."
   ]
  },
  {
   "cell_type": "code",
   "execution_count": null,
   "id": "ad00b98d",
   "metadata": {},
   "outputs": [],
   "source": [
    "Q11. In a for loop, what is the difference between range(10), range(0, 10), and range(0, 10, 1)?\n"
   ]
  },
  {
   "cell_type": "code",
   "execution_count": 5,
   "id": "7764d516",
   "metadata": {},
   "outputs": [
    {
     "name": "stdout",
     "output_type": "stream",
     "text": [
      "0\n",
      "1\n",
      "2\n",
      "3\n",
      "4\n",
      "5\n",
      "6\n",
      "7\n",
      "8\n",
      "9\n",
      "till here range(10) executed\n",
      "0\n",
      "1\n",
      "2\n",
      "3\n",
      "4\n",
      "5\n",
      "6\n",
      "7\n",
      "8\n",
      "9\n",
      "till here range(0,10) executed\n",
      "0\n",
      "1\n",
      "2\n",
      "3\n",
      "4\n",
      "5\n",
      "6\n",
      "7\n",
      "8\n",
      "9\n"
     ]
    }
   ],
   "source": [
    "for i in range(10):\n",
    "    print(i)\n",
    "print(\"till here range(10) executed\") \n",
    "for i in range(0,10):\n",
    "    print(i)\n",
    "print(\"till here range(0,10) executed\")\n",
    "for i in range(0,10,1):\n",
    "    print(i)"
   ]
  },
  {
   "cell_type": "code",
   "execution_count": null,
   "id": "828da430",
   "metadata": {},
   "outputs": [],
   "source": [
    "From the above output we can conclude that they all do the same thing. \n",
    "The range(10) call ranges from 0 up to (but not including) 10, \n",
    "range(0, 10) tells the loop to start at 0, \n",
    "and range(0, 10, 1) tells the loop to increase the variable by 1 on each iteration."
   ]
  },
  {
   "cell_type": "code",
   "execution_count": null,
   "id": "65b32279",
   "metadata": {},
   "outputs": [],
   "source": [
    "Q12. Write a short program that prints the numbers 1 to 10 using a for loop. \n",
    "Then write an equivalent program that prints the numbers 1 to 10 using a while loop."
   ]
  },
  {
   "cell_type": "code",
   "execution_count": 6,
   "id": "916f818e",
   "metadata": {},
   "outputs": [
    {
     "name": "stdout",
     "output_type": "stream",
     "text": [
      "For Loop\n",
      "1\n",
      "2\n",
      "3\n",
      "4\n",
      "5\n",
      "6\n",
      "7\n",
      "8\n",
      "9\n",
      "10\n",
      "While Loop\n",
      "1\n",
      "2\n",
      "3\n",
      "4\n",
      "5\n",
      "6\n",
      "7\n",
      "8\n",
      "9\n",
      "10\n"
     ]
    }
   ],
   "source": [
    "#Using For Loop\n",
    "\n",
    "print(\"For Loop\")\n",
    "for i in range(1,11):\n",
    "    print(i)\n",
    "\n",
    "#Using While Loop\n",
    "\n",
    "print(\"While Loop\")\n",
    "a =1\n",
    "while a <= 10:\n",
    "    print(a)\n",
    "    a+=1"
   ]
  },
  {
   "cell_type": "code",
   "execution_count": null,
   "id": "5221c715",
   "metadata": {},
   "outputs": [],
   "source": [
    "Q13. If you had a function named bacon() inside a module named spam, how would you call it after importing spam?\n",
    "\n",
    "This function can be called with spam.bacon()."
   ]
  }
 ],
 "metadata": {
  "kernelspec": {
   "display_name": "Python 3 (ipykernel)",
   "language": "python",
   "name": "python3"
  },
  "language_info": {
   "codemirror_mode": {
    "name": "ipython",
    "version": 3
   },
   "file_extension": ".py",
   "mimetype": "text/x-python",
   "name": "python",
   "nbconvert_exporter": "python",
   "pygments_lexer": "ipython3",
   "version": "3.9.7"
  }
 },
 "nbformat": 4,
 "nbformat_minor": 5
}
