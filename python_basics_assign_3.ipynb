{
 "cells": [
  {
   "cell_type": "markdown",
   "id": "6e1b0bd5",
   "metadata": {},
   "source": [
    " Q1. Why are functions advantageous to have in your programs?\n",
    " \n",
    " With the help of function we reduce the duplicate code. It makes programs short, easy to read, and easier to update."
   ]
  },
  {
   "cell_type": "markdown",
   "id": "993fe949",
   "metadata": {},
   "source": [
    "Q2. When does the code in a function run:when it's specified or when it's called?\n",
    "\n",
    "Code inside the function runs when the function is called"
   ]
  },
  {
   "cell_type": "markdown",
   "id": "e7420314",
   "metadata": {},
   "source": [
    "Q3. What statement creates a function?\n",
    "\n",
    "The def statement defines (i.e. creates) a function."
   ]
  },
  {
   "cell_type": "code",
   "execution_count": 4,
   "id": "a0be9e3d",
   "metadata": {},
   "outputs": [],
   "source": [
    "#eg:\n",
    "def hello():\n",
    "    pass"
   ]
  },
  {
   "cell_type": "markdown",
   "id": "6fe8d4c8",
   "metadata": {},
   "source": [
    "Q4. What is the difference between a function and a function call?"
   ]
  },
  {
   "cell_type": "code",
   "execution_count": 1,
   "id": "fff0d9fa",
   "metadata": {},
   "outputs": [],
   "source": [
    "#defining function\n",
    "def my_func(): \n",
    "    pass \n",
    "\n",
    "\n",
    "my_func() #calling of function"
   ]
  },
  {
   "cell_type": "markdown",
   "id": "2c91ebbb",
   "metadata": {},
   "source": [
    "A function consists of the def statement and the code in its def clause.\n",
    "\n",
    "A function call is what moves the program execution into the function, and the function call evaluates to the function's \n",
    "return value."
   ]
  },
  {
   "cell_type": "markdown",
   "id": "ef82fefb",
   "metadata": {},
   "source": [
    "Q5. How many global scopes are there in a Python program? How many local scopes?\n",
    "\n",
    "There is only one global Python scope per program execution. This scope remains in existence until the program terminates , \n",
    "and a local scope is created whenever a function is called."
   ]
  },
  {
   "cell_type": "markdown",
   "id": "a1ff6c66",
   "metadata": {},
   "source": [
    "Q6. What happens to variables in a local scope when the function call returns?\n",
    "\n",
    "When a function returns, the local scope is destroyed."
   ]
  },
  {
   "cell_type": "markdown",
   "id": "0e230eb6",
   "metadata": {},
   "source": [
    "Q7. What is the concept of a return value? Is it possible to have a return value in an expression?\n",
    "\n",
    "A return value is the value that a function call evaluates to. \n",
    "Like any value, a return value can be used as part of an expression."
   ]
  },
  {
   "cell_type": "markdown",
   "id": "b0eb885e",
   "metadata": {},
   "source": [
    "Q8. If a function does not have a return statement, what is the return value of a call to that function?\n",
    "\n",
    "If the funtion does not have a return statement it will not return anything."
   ]
  },
  {
   "cell_type": "markdown",
   "id": "10bd1f0a",
   "metadata": {},
   "source": [
    "Q9. How do you make a function variable refer to the global variable?\n",
    "\n",
    "To make function variable as a global variable you can use the global keyword to declare which variables are global."
   ]
  },
  {
   "cell_type": "markdown",
   "id": "fed58763",
   "metadata": {},
   "source": [
    "Q10. What is the data type of None?\n",
    "\n",
    "The data type of None is NoneType."
   ]
  },
  {
   "cell_type": "markdown",
   "id": "b306eb1c",
   "metadata": {},
   "source": [
    "Q11. What does the sentence import areallyourpetsnamederic do?\n",
    "\n",
    "That import statement imports a module named areallyourpetsnamederic. (But a module of this name doesnt exists in Python)"
   ]
  },
  {
   "cell_type": "markdown",
   "id": "aa4ce337",
   "metadata": {},
   "source": [
    "Q12. If you had a bacon() feature in a spam module, what would you call it after importing spam?\n",
    "\n",
    "import spam\n",
    "spam.bacon()"
   ]
  },
  {
   "cell_type": "markdown",
   "id": "5a7a7ea6",
   "metadata": {},
   "source": [
    "Q13. What can you do to save a programme from crashing if it encounters an error?\n",
    "\n",
    "We can use try except clause to save a program from crashing."
   ]
  },
  {
   "cell_type": "markdown",
   "id": "ae70fff0",
   "metadata": {},
   "source": [
    "Q14. What is the purpose of the try clause? What is the purpose of the except clause?\n",
    "\n",
    "Try and Except clause is used to handle the errors within our code . The try block is used to check some code for errors i.e the code inside the try block will execute when there is no error in the program. Whereas the code inside the except block will execute whenever the program encounters some error in the try block."
   ]
  },
  {
   "cell_type": "code",
   "execution_count": 7,
   "id": "e8d25edf",
   "metadata": {},
   "outputs": [],
   "source": [
    "#Eg:-\n",
    "\n",
    "try:\n",
    "    pass\n",
    "# Code\n",
    "except:\n",
    "    pass\n",
    "# Executed if error in the\n",
    "# try block"
   ]
  },
  {
   "cell_type": "code",
   "execution_count": null,
   "id": "a4c142c4",
   "metadata": {},
   "outputs": [],
   "source": []
  }
 ],
 "metadata": {
  "kernelspec": {
   "display_name": "Python 3 (ipykernel)",
   "language": "python",
   "name": "python3"
  },
  "language_info": {
   "codemirror_mode": {
    "name": "ipython",
    "version": 3
   },
   "file_extension": ".py",
   "mimetype": "text/x-python",
   "name": "python",
   "nbconvert_exporter": "python",
   "pygments_lexer": "ipython3",
   "version": "3.9.7"
  }
 },
 "nbformat": 4,
 "nbformat_minor": 5
}
