{
 "cells": [
  {
   "cell_type": "markdown",
   "id": "497ffb71",
   "metadata": {},
   "source": [
    "1.Write a Python program to print 'Hello Python' ?"
   ]
  },
  {
   "cell_type": "code",
   "execution_count": 1,
   "id": "cdf6c589",
   "metadata": {},
   "outputs": [
    {
     "name": "stdout",
     "output_type": "stream",
     "text": [
      "Hello Python\n"
     ]
    }
   ],
   "source": [
    "print('Hello Python')"
   ]
  },
  {
   "cell_type": "markdown",
   "id": "0f23ec35",
   "metadata": {},
   "source": [
    "2.Write a Python program to do arithmetic operations addition and division ?"
   ]
  },
  {
   "cell_type": "code",
   "execution_count": 3,
   "id": "33f255f1",
   "metadata": {},
   "outputs": [
    {
     "name": "stdout",
     "output_type": "stream",
     "text": [
      "Select a Arithmetic Operation:         \n",
      "1.Addition(+)        \n",
      "2.Division(-)        \n",
      "2.Multiplication(*)        \n",
      "4.Division(/)        \n",
      "3.Stop(0)\n",
      "\n",
      "Enter a arithmetic operation -> +\n",
      "\n",
      "Enter 1st Number: 31\n",
      "Enter 2nd Number: 36\n",
      "31+36=67\n",
      "\n",
      "Enter a arithmetic operation -> 0\n",
      "Program Stopped successfully\n"
     ]
    }
   ],
   "source": [
    "import operator\n",
    "\n",
    "ops = { \"+\": operator.add, \"-\": operator.sub, \"*\":operator.mul, \"/\":operator.truediv } \n",
    "\n",
    "print('Select a Arithmetic Operation: \\\n",
    "        \\n1.Addition(+)\\\n",
    "        \\n2.Division(-)\\\n",
    "        \\n2.Multiplication(*)\\\n",
    "        \\n4.Division(/)\\\n",
    "        \\n3.Stop(0)\\n')\n",
    "   \n",
    "\n",
    "while True:\n",
    "    operator = input('Enter a arithmetic operation -> ')\n",
    "    if operator == '0':\n",
    "        print(\"Program Stopped successfully\")\n",
    "        break\n",
    "    elif operator not in ['+','-','*','/']:\n",
    "        print(\"Please enter a valid operator\")\n",
    "    else:\n",
    "        num_1 = int(input('\\nEnter 1st Number: '))\n",
    "        num_2 = int(input('Enter 2nd Number: '))\n",
    "        print('{}{}{}={}\\n'.format(num_1, operator, num_2, ops[operator](num_1,num_2)))"
   ]
  },
  {
   "cell_type": "markdown",
   "id": "24c89678",
   "metadata": {},
   "source": [
    "3.Write a Python program to find the area of a triangle ?"
   ]
  },
  {
   "cell_type": "code",
   "execution_count": 4,
   "id": "2ac3b455",
   "metadata": {},
   "outputs": [
    {
     "name": "stdout",
     "output_type": "stream",
     "text": [
      "Enter height of triangle: 50\n",
      "Enter base of triangle: 25\n",
      "\n",
      "Area of triangle -> 625.0\n"
     ]
    }
   ],
   "source": [
    "height = int(input('Enter height of triangle: '))\n",
    "base = int(input('Enter base of triangle: '))\n",
    "\n",
    "def areaOfTriangle(height, base):\n",
    "    print('\\nArea of triangle ->', 0.5*height*base)\n",
    "\n",
    "areaOfTriangle(height,base)"
   ]
  },
  {
   "cell_type": "markdown",
   "id": "4ed02090",
   "metadata": {},
   "source": [
    "4.Write a Python program to swap two variables ?"
   ]
  },
  {
   "cell_type": "code",
   "execution_count": 5,
   "id": "2f28a8b3",
   "metadata": {},
   "outputs": [
    {
     "name": "stdout",
     "output_type": "stream",
     "text": [
      "Enter First Number: 100\n",
      "Enter Second Number: 200\n",
      "Before swapping ->  100 200\n",
      "After swapping ->  200 100\n"
     ]
    }
   ],
   "source": [
    "num_1 = int(input(\"Enter First Number: \"))\n",
    "num_2 = int(input(\"Enter Second Number: \"))\n",
    "\n",
    "def swapNumbers(a,b):\n",
    "    temp = a\n",
    "    a = b\n",
    "    b = temp\n",
    "    return a,b\n",
    "\n",
    "print('Before swapping -> ',num_1, num_2)\n",
    "num_1, num_2 = swapNumbers(num_1, num_2)\n",
    "print('After swapping -> ',num_1,num_2)\n"
   ]
  },
  {
   "cell_type": "markdown",
   "id": "f3de9669",
   "metadata": {},
   "source": [
    "5.Write a Python program to generate a random number ?"
   ]
  },
  {
   "cell_type": "code",
   "execution_count": 7,
   "id": "7db56ad3",
   "metadata": {},
   "outputs": [
    {
     "name": "stdout",
     "output_type": "stream",
     "text": [
      "Random number ->  78380\n",
      "Random number ->  49\n"
     ]
    }
   ],
   "source": [
    "from random import randint\n",
    "\n",
    "def generateRandomNumber(start=0, end=100000):\n",
    "    print('Random number -> ',randint(start,end))\n",
    "\n",
    "# Generating random numbers without arguments    \n",
    "generateRandomNumber()\n",
    "\n",
    "# Generating random numbers with arguments    \n",
    "generateRandomNumber(0,100)"
   ]
  },
  {
   "cell_type": "code",
   "execution_count": null,
   "id": "80e9c346",
   "metadata": {},
   "outputs": [],
   "source": []
  },
  {
   "cell_type": "code",
   "execution_count": null,
   "id": "459d56dd",
   "metadata": {},
   "outputs": [],
   "source": []
  }
 ],
 "metadata": {
  "kernelspec": {
   "display_name": "Python 3",
   "language": "python",
   "name": "python3"
  },
  "language_info": {
   "codemirror_mode": {
    "name": "ipython",
    "version": 3
   },
   "file_extension": ".py",
   "mimetype": "text/x-python",
   "name": "python",
   "nbconvert_exporter": "python",
   "pygments_lexer": "ipython3",
   "version": "3.8.8"
  }
 },
 "nbformat": 4,
 "nbformat_minor": 5
}
