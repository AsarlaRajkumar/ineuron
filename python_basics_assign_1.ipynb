{
 "cells": [
  {
   "cell_type": "code",
   "execution_count": null,
   "id": "28e2c2f4",
   "metadata": {},
   "outputs": [],
   "source": [
    "1. In the below elements which of them are values or an expression? eg:- values can be integer or string and expressions will be mathematical operators.\n",
    "*          ---------- expression\n",
    "'hello'    ---------- value\n",
    "-87.8      ---------- value\n",
    "-          ---------- expression\n",
    "/          ---------- expression\n",
    "+          ---------- expression\n",
    "6          ---------- value \n"
   ]
  },
  {
   "cell_type": "code",
   "execution_count": null,
   "id": "692acff6",
   "metadata": {},
   "outputs": [],
   "source": [
    "2. What is the difference between string and variable?\n",
    "\n",
    "We can store string in a variable but we cannot store the variable in the string.\n",
    "Variables that stores the information in the form of values. \n",
    "We cannot use space in-between two words. In addition, in string we can use Space\n",
    "We cannot use space or “” and  “ while specifying the Variable and in string we have to use “” & “ also can use space in between colons."
   ]
  },
  {
   "cell_type": "code",
   "execution_count": null,
   "id": "636c79ba",
   "metadata": {},
   "outputs": [],
   "source": [
    "3. Describe three different data types.\n",
    "\n",
    "Integers – This value is represented by int class. It contains positive or negative whole numbers.\n",
    "String - A string is a collection of one or more characters put in a single quote, double-quote or triple quote. \n",
    "List - Lists are just like the arrays, declared in other languages which is a ordered collection of data."
   ]
  },
  {
   "cell_type": "code",
   "execution_count": null,
   "id": "5f785d49",
   "metadata": {},
   "outputs": [],
   "source": [
    "4. What is an expression made up of? What do all expressions do?\n",
    "\n",
    "An expression is made up of operators and variables.\n",
    "An expression is a combination of operators and operands that is interpreted to produce some other value."
   ]
  },
  {
   "cell_type": "code",
   "execution_count": null,
   "id": "0bdd7571",
   "metadata": {},
   "outputs": [],
   "source": [
    "5. This assignment statements, like spam = 10. What is the difference between an expression and a statement?\n",
    "\n",
    "An “expression” is a combination of values and functions that are combined and interpreted to create a new value, as opposed to a “statement” which is just a standalone unit of execution and doesn't return anything"
   ]
  },
  {
   "cell_type": "code",
   "execution_count": null,
   "id": "92e44126",
   "metadata": {},
   "outputs": [],
   "source": [
    "6. After running the following code, what does the variable bacon contain?\n",
    "bacon = 22\n",
    "bacon + 1\n",
    "\n",
    "22"
   ]
  },
  {
   "cell_type": "code",
   "execution_count": null,
   "id": "f952bb6c",
   "metadata": {},
   "outputs": [],
   "source": [
    "7. What should the values of the following two terms be?\n",
    "\n",
    "same.\n",
    "'spam' + 'spamspam' ----> 'spamspamspam'\n",
    "'spam' * 3          ----> 'spamspamspam'\n",
    "\n"
   ]
  },
  {
   "cell_type": "code",
   "execution_count": null,
   "id": "0794cd50",
   "metadata": {},
   "outputs": [],
   "source": [
    "8. Why is eggs a valid variable name while 100 is invalid?\n",
    "\n",
    "Variable names cannot begin with a number"
   ]
  },
  {
   "cell_type": "code",
   "execution_count": null,
   "id": "c8449fec",
   "metadata": {},
   "outputs": [],
   "source": [
    "9. What three functions can be used to get the integer, floating-point number, or string version of a value?\n",
    "\n",
    "The int() , float() , and str( ) functions will be used to the integer, floating-point number, and string versions of the value passed to them."
   ]
  },
  {
   "cell_type": "code",
   "execution_count": null,
   "id": "1c7c5efa",
   "metadata": {},
   "outputs": [],
   "source": [
    "10. Why does this expression cause an error? How can you fix it?\n",
    "'I have eaten ' + 99 + ' burritos.'\n",
    "\n",
    "Since we cannot concatenate string value with integer value"
   ]
  }
 ],
 "metadata": {
  "kernelspec": {
   "display_name": "Python 3 (ipykernel)",
   "language": "python",
   "name": "python3"
  },
  "language_info": {
   "codemirror_mode": {
    "name": "ipython",
    "version": 3
   },
   "file_extension": ".py",
   "mimetype": "text/x-python",
   "name": "python",
   "nbconvert_exporter": "python",
   "pygments_lexer": "ipython3",
   "version": "3.9.7"
  }
 },
 "nbformat": 4,
 "nbformat_minor": 5
}
